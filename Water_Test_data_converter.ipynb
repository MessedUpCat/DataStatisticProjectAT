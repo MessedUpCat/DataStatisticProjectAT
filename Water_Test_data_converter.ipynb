{
 "cells": [
  {
   "cell_type": "code",
   "execution_count": 2,
   "metadata": {},
   "outputs": [],
   "source": [
    "import pandas as pd\n",
    "#import numpy as np\n",
    "import matplotlib.pyplot as plt"
   ]
  },
  {
   "cell_type": "code",
   "execution_count": 3,
   "metadata": {},
   "outputs": [
    {
     "name": "stdout",
     "output_type": "stream",
     "text": [
      "     location      Date  Test_1  Test_2  Test_3\n",
      "0      FW_idX  20160101       0       0       0\n",
      "1      FW_idX  20160102       0       1       0\n",
      "2      FW_idX  20160103       0       1       0\n",
      "3      FW_idX  20160104       0       0       0\n",
      "4      FW_idX  20160105       0       0       0\n",
      "...       ...       ...     ...     ...     ...\n",
      "4378   FW_idZ  20191227       0       0       0\n",
      "4379   FW_idZ  20191228       0       0       0\n",
      "4380   FW_idZ  20191229       0       0       0\n",
      "4381   FW_idZ  20191230       0       1       0\n",
      "4382   FW_idZ  20191231       1       1       1\n",
      "\n",
      "[4383 rows x 5 columns]\n",
      "shit data\n"
     ]
    }
   ],
   "source": [
    "#importing raw data\n",
    "datat1 = pd.read_csv(\"DATARAW/FWTest1.txt\", sep=\",\", header=None,  names=[\"location\", \"Date\",\"Test_1\"])\n",
    "datat2 = pd.read_csv(\"DATARAW/FWTest2.txt\", sep=\",\", header=None,  names=[\"location\", \"Date\",\"Test_2\"])\n",
    "datat3 = pd.read_csv(\"DATARAW/FWTest3.txt\", sep=\",\", header=None,  names=[\"location\", \"Date\",\"Test_3\"])\n",
    "\n",
    "#frames = [datab1, datab2.level]\n",
    "\n",
    "data = pd.concat([datat1, datat2.Test_2,datat3.Test_3], axis = 1)\n",
    "print(data)\n",
    "print(\"shit data\")\n",
    "\n",
    "\n"
   ]
  },
  {
   "cell_type": "code",
   "execution_count": 4,
   "metadata": {},
   "outputs": [
    {
     "name": "stdout",
     "output_type": "stream",
     "text": [
      "     location       Date  Test_1  Test_2  Test_3\n",
      "0      FW_idX 2016-01-01       0       0       0\n",
      "1      FW_idX 2016-01-02       0       1       0\n",
      "2      FW_idX 2016-01-03       0       1       0\n",
      "3      FW_idX 2016-01-04       0       0       0\n",
      "4      FW_idX 2016-01-05       0       0       0\n",
      "...       ...        ...     ...     ...     ...\n",
      "4378   FW_idZ 2019-12-27       0       0       0\n",
      "4379   FW_idZ 2019-12-28       0       0       0\n",
      "4380   FW_idZ 2019-12-29       0       0       0\n",
      "4381   FW_idZ 2019-12-30       0       1       0\n",
      "4382   FW_idZ 2019-12-31       1       1       1\n",
      "\n",
      "[4383 rows x 5 columns]\n"
     ]
    }
   ],
   "source": [
    "\n",
    "#fixing date fotmat\n",
    "data['Date'] = pd.to_datetime(data['Date'], format='%Y%m%d')\n",
    "print(data)\n"
   ]
  },
  {
   "cell_type": "code",
   "execution_count": 5,
   "metadata": {},
   "outputs": [
    {
     "name": "stdout",
     "output_type": "stream",
     "text": [
      "     location       Date  Test_1  Test_2  Test_3\n",
      "0           X 2016-01-01       0       0       0\n",
      "1           X 2016-01-02       0       1       0\n",
      "2           X 2016-01-03       0       1       0\n",
      "3           X 2016-01-04       0       0       0\n",
      "4           X 2016-01-05       0       0       0\n",
      "...       ...        ...     ...     ...     ...\n",
      "4378        Z 2019-12-27       0       0       0\n",
      "4379        Z 2019-12-28       0       0       0\n",
      "4380        Z 2019-12-29       0       0       0\n",
      "4381        Z 2019-12-30       0       1       0\n",
      "4382        Z 2019-12-31       1       1       1\n",
      "\n",
      "[4383 rows x 5 columns]\n"
     ]
    }
   ],
   "source": [
    "\n",
    "#fixing type location ID\n",
    "data.location = data.location.str.slice(5)\n",
    "\n",
    "print(data)\n"
   ]
  },
  {
   "cell_type": "code",
   "execution_count": 6,
   "metadata": {},
   "outputs": [],
   "source": [
    "\n",
    "#exporting data\n",
    "data.to_csv('DATA/WaterTestData.txt',index=False)"
   ]
  }
 ],
 "metadata": {
  "kernelspec": {
   "display_name": "base",
   "language": "python",
   "name": "python3"
  },
  "language_info": {
   "codemirror_mode": {
    "name": "ipython",
    "version": 3
   },
   "file_extension": ".py",
   "mimetype": "text/x-python",
   "name": "python",
   "nbconvert_exporter": "python",
   "pygments_lexer": "ipython3",
   "version": "3.10.9"
  },
  "orig_nbformat": 4
 },
 "nbformat": 4,
 "nbformat_minor": 2
}
