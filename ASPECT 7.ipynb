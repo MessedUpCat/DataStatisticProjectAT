{
 "cells": [
  {
   "cell_type": "code",
   "execution_count": 203,
   "metadata": {},
   "outputs": [
    {
     "name": "stdout",
     "output_type": "stream",
     "text": [
      "Solar Mean value per unit: 236.95827585756783\n",
      "Wind Mean value per unit: 27683.84417630112\n",
      "\n",
      "solar power m2: 0.47391655171513564\n",
      "wind power m2: 0.5536768835260224\n",
      "\n",
      "solar power E: 0.0033851182265366834\n",
      "wind power E: 0.014196843167333908\n",
      "\n",
      "solar power per E * m2: 6.770236453073367e-06\n",
      "wind power per E * m2  2.8393686334667813e-07\n",
      "\n"
     ]
    }
   ],
   "source": [
    "import pandas as pd\n",
    "import numpy as np\n",
    "import seaborn as sns\n",
    "import matplotlib.pyplot as plt\n",
    "from sklearn.linear_model import LogisticRegression\n",
    "from sklearn.linear_model import LinearRegression\n",
    "\n",
    "# Changes the number of columns diplayed (default is 20)\n",
    "pd.options.display.max_columns = 250\n",
    "# Changes the number of rows diplayed (default is 60)\n",
    "pd.options.display.max_rows = 250\n",
    "pd.set_option(\"display.precision\", 3)\n",
    "\n",
    "\n",
    "   \n",
    "SolarData = pd.read_csv(\"DATA/SolarData.txt\", sep=\",\")\n",
    "SolarData = SolarData[SolarData['On/Off'] == 1]\n",
    "WeatherData = pd.read_csv(\"DATA/WeatherData_Combined.txt\", sep=\",\", header=0)\n",
    "WindData = pd.read_csv(\"DATA/WindData.txt\", sep=\",\")\n",
    "WindData = WindData[WindData['On/Off'] == 1]\n",
    "LandPrice = pd.read_csv(\"DATA/Prices of land.csv\", sep=',')\n",
    "#solar\n",
    "merged_df = pd.merge(SolarData, WeatherData,on=['Date','location'], how='inner')\n",
    "df = merged_df\n",
    "df = df[(df['type'] == 2)]\n",
    "mean_value_solar = df['kWh produced'].mean()\n",
    "print(\"Solar Mean value per unit:\", mean_value_solar)\n",
    "#wind\n",
    "merged_df = pd.merge(WindData, WeatherData,on=['Date','location'], how='inner')\n",
    "df = merged_df\n",
    "df = df[(df['type'] == \"C\")]\n",
    "mean_value_wind = df['kWh produced'].mean() * 1000\n",
    "print(\"Wind Mean value per unit:\", mean_value_wind)\n",
    "\n",
    "\n",
    "\n",
    "\n",
    "\n",
    "\n",
    "\n",
    "\n",
    "price_wind = 1950000\n",
    "price_solar = 70000\n",
    "\n",
    "space_wind = 50000\n",
    "space_solar = 500\n",
    "print()\n",
    "Power_space_solar = mean_value_solar / space_solar\n",
    "print(\"solar power m2:\", Power_space_solar)\n",
    "\n",
    "Power_space_wind = mean_value_wind / space_wind\n",
    "print(\"wind power m2:\", Power_space_wind)\n",
    "print()\n",
    "\n",
    "Power_price_solar = mean_value_solar / price_solar\n",
    "print(\"solar power E:\", Power_price_solar)\n",
    "\n",
    "Power_price_wind = mean_value_wind / price_wind\n",
    "print(\"wind power E:\", Power_price_wind)\n",
    "print()\n",
    "\n",
    "\n",
    "Power_price_space_solar = mean_value_solar / price_solar/ space_solar\n",
    "print(\"solar power per E * m2:\", Power_price_space_solar)\n",
    "\n",
    "Power_price_space_wind = mean_value_wind / price_wind/ space_wind\n",
    "print(\"wind power per E * m2 \", Power_price_space_wind)\n",
    "print()\n",
    "\n",
    "\n",
    "# so data is swaped places and Wind mill B might be better ????\n",
    "\n",
    "# 0.01419\n"
   ]
  },
  {
   "cell_type": "code",
   "execution_count": 204,
   "metadata": {},
   "outputs": [],
   "source": [
    "#print(LandPrice)\n",
    "#here we are neglecting the constrains\n",
    "\n",
    "N_wind_possible = LandPrice['Remaining Capacity ha'] // 5\n",
    "N_solar_rem = (LandPrice['Remaining Capacity ha'] % 5) / 0.05\n",
    "LandPrice.insert(4,'Windmills possible' ,N_wind_possible)\n",
    "LandPrice.insert(5,'Solar remaining' ,N_solar_rem)\n"
   ]
  },
  {
   "cell_type": "code",
   "execution_count": 205,
   "metadata": {},
   "outputs": [
    {
     "name": "stdout",
     "output_type": "stream",
     "text": [
      "            Location Additional requirements  Remaining Capacity ha  \\\n",
      "0              Arcen                     NaN                    3.5   \n",
      "1              Eelde                     NaN                    8.0   \n",
      "2    Airport Twenthe     max 30 solar panels                   25.0   \n",
      "3           Lelystad                     NaN                    4.0   \n",
      "4         Zwartemeer         Max 5 windmills                   45.0   \n",
      "5         Rhederbrug                     NaN                   70.0   \n",
      "6        Roodeschool            No windmills                   85.0   \n",
      "7          Sexbierum         Max 3 windmills                   12.0   \n",
      "8     Burgervlotbrug   Min 5 windmill type C                   32.0   \n",
      "9   Hoek van Holland                     NaN                   15.0   \n",
      "10     Visschershoek         No solar panels                   45.0   \n",
      "11        Kruishoofd            No windmills                   25.0   \n",
      "\n",
      "    Price to aqquire  Windmills possible  Solar remaining  \n",
      "0                  0                 0.0             70.0  \n",
      "1                  0                 1.0             60.0  \n",
      "2                  0                 5.0              0.0  \n",
      "3                  0                 0.0             80.0  \n",
      "4            3231000                 5.0              9.0  \n",
      "5            4711000                14.0              0.0  \n",
      "6            5720500                 0.0           1700.0  \n",
      "7             692400                 2.0             40.0  \n",
      "8            2633600                 6.0             40.0  \n",
      "9            1084500                 3.0              0.0  \n",
      "10           3937500                 9.0              0.0  \n",
      "11           2187500                 0.0            500.0  \n"
     ]
    }
   ],
   "source": [
    "#rule correction\n",
    "#Zwart\n",
    "LandPrice.at[4, 'Windmills possible'] = 5\n",
    "LandPrice.at[4, 'Solar remaining'] = 20/0.05 - 391 # -391 makes it fit the budget and that is the best way to reduce the budget while remaining efficiency\n",
    "\n",
    "\n",
    "#Roodeschool\n",
    "LandPrice.at[6, 'Windmills possible'] = 0\n",
    "LandPrice.at[6, 'Solar remaining'] = 85/0.05\n",
    "#visschershoek\n",
    "LandPrice.at[10, 'Solar remaining'] = 0\n",
    "#Kruishoofd\n",
    "LandPrice.at[11, 'Windmills possible'] = 0\n",
    "LandPrice.at[11, 'Solar remaining'] = 25/0.05\n",
    "\n",
    "print(LandPrice)\n"
   ]
  },
  {
   "cell_type": "code",
   "execution_count": 206,
   "metadata": {},
   "outputs": [
    {
     "name": "stdout",
     "output_type": "stream",
     "text": [
      "0     2.954e-04\n",
      "1     1.468e-04\n",
      "2     7.044e-05\n",
      "3     2.954e-04\n",
      "4     9.684e-05\n",
      "5     8.259e-05\n",
      "6     3.096e-04\n",
      "7     1.140e-04\n",
      "8     9.758e-05\n",
      "9     8.350e-05\n",
      "10    8.624e-05\n",
      "11    3.139e-04\n",
      "dtype: float64\n"
     ]
    }
   ],
   "source": [
    "\n",
    "#print(LandPrice)\n",
    "Price2fillout = (LandPrice['Price to aqquire'] + LandPrice['Windmills possible'] * price_wind + LandPrice['Solar remaining'] * price_solar ) / 1000000\n",
    "#print(Price2fillout)\n",
    "energyfillout = LandPrice['Windmills possible'] * \\\n",
    "    mean_value_wind + LandPrice['Solar remaining'] * mean_value_solar\n",
    "\n",
    "PriceEnergyEfficiency = Price2fillout / energyfillout\n",
    "print(PriceEnergyEfficiency)"
   ]
  },
  {
   "cell_type": "code",
   "execution_count": 207,
   "metadata": {},
   "outputs": [],
   "source": [
    "LandPrice.insert(6,'Fillout price' ,Price2fillout)\n",
    "LandPrice.insert(7,'Energy fillout' ,energyfillout)\n",
    "LandPrice.insert(8,'Efficiency' , PriceEnergyEfficiency)\n",
    "#print(LandPrice)\n"
   ]
  },
  {
   "cell_type": "code",
   "execution_count": 208,
   "metadata": {},
   "outputs": [
    {
     "name": "stdout",
     "output_type": "stream",
     "text": [
      "            Location Additional requirements  Remaining Capacity ha  \\\n",
      "2    Airport Twenthe     max 30 solar panels                   25.0   \n",
      "5         Rhederbrug                     NaN                   70.0   \n",
      "9   Hoek van Holland                     NaN                   15.0   \n",
      "10     Visschershoek         No solar panels                   45.0   \n",
      "4         Zwartemeer         Max 5 windmills                   45.0   \n",
      "8     Burgervlotbrug   Min 5 windmill type C                   32.0   \n",
      "7          Sexbierum         Max 3 windmills                   12.0   \n",
      "1              Eelde                     NaN                    8.0   \n",
      "0              Arcen                     NaN                    3.5   \n",
      "3           Lelystad                     NaN                    4.0   \n",
      "6        Roodeschool            No windmills                   85.0   \n",
      "11        Kruishoofd            No windmills                   25.0   \n",
      "\n",
      "    Price to aqquire  Windmills possible  Solar remaining  Fillout price  \\\n",
      "2                  0                 5.0              0.0          9.750   \n",
      "5            4711000                14.0              0.0         32.011   \n",
      "9            1084500                 3.0              0.0          6.934   \n",
      "10           3937500                 9.0              0.0         21.488   \n",
      "4            3231000                 5.0              9.0         13.611   \n",
      "8            2633600                 6.0             40.0         17.134   \n",
      "7             692400                 2.0             40.0          7.392   \n",
      "1                  0                 1.0             60.0          6.150   \n",
      "0                  0                 0.0             70.0          4.900   \n",
      "3                  0                 0.0             80.0          5.600   \n",
      "6            5720500                 0.0           1700.0        124.721   \n",
      "11           2187500                 0.0            500.0         37.188   \n",
      "\n",
      "    Energy fillout  Efficiency  \n",
      "2       138419.221   7.044e-05  \n",
      "5       387573.818   8.259e-05  \n",
      "9        83051.533   8.350e-05  \n",
      "10      249154.598   8.624e-05  \n",
      "4       140551.845   9.684e-05  \n",
      "8       175581.396   9.758e-05  \n",
      "7        64846.019   1.140e-04  \n",
      "1        41901.341   1.468e-04  \n",
      "0        16587.079   2.954e-04  \n",
      "3        18956.662   2.954e-04  \n",
      "6       402829.069   3.096e-04  \n",
      "11      118479.138   3.139e-04  \n"
     ]
    }
   ],
   "source": [
    "list = LandPrice.sort_values('Efficiency', ascending = True)\n",
    "print(list)\n",
    "\n"
   ]
  },
  {
   "cell_type": "code",
   "execution_count": 222,
   "metadata": {},
   "outputs": [
    {
     "name": "stdout",
     "output_type": "stream",
     "text": [
      "DECISION 1 : Space efficiency - First filling out land to produce as much energy, than buying next land that has the biggest potential to generate energy the cheapest\n",
      "        Location  Windmills possible  Solar remaining  Fillout price\n",
      " Airport Twenthe                 5.0              0.0          9.750\n",
      "      Rhederbrug                14.0              0.0         32.011\n",
      "Hoek van Holland                 3.0              0.0          6.934\n",
      "   Visschershoek                 9.0              0.0         21.488\n",
      "      Zwartemeer                 5.0              9.0         13.611\n",
      "  Burgervlotbrug                 6.0             40.0         17.134\n",
      "       Sexbierum                 2.0             40.0          7.392\n",
      "           Eelde                 1.0             60.0          6.150\n",
      "           Arcen                 0.0             70.0          4.900\n",
      "        Lelystad                 0.0             80.0          5.600\n",
      "\n",
      "Daily energy production in MWh: 1837.93 \n",
      "Decision cost: 124.97 M€\n"
     ]
    }
   ],
   "source": [
    "Decision1 = list.drop(['Additional requirements', 'Price to aqquire', 'Price to aqquire', 'Remaining Capacity ha', 'Efficiency','Energy fillout',],axis=1)\n",
    "Decision1 = Decision1.drop([6, 11], axis=0)\n",
    "print(\"DECISION 1 : Space efficiency - First filling out land to produce as much energy, than buying next land that has the biggest potential to generate energy the cheapest\")\n",
    "\n",
    "print(Decision1.to_string(index=False))\n",
    "#Energy_sum = list[\"Energy fillout\"].sum()\n",
    "print()\n",
    "dep = list[\"Energy fillout\"].sum()/1000\n",
    "print(\"Daily energy production in MWh: %.2f \"%dep)\n",
    "cost = Decision1[\"Fillout price\"].sum()\n",
    "print(\"Decision cost: %.2f\" %cost, \"M€\")"
   ]
  }
 ],
 "metadata": {
  "kernelspec": {
   "display_name": "base",
   "language": "python",
   "name": "python3"
  },
  "language_info": {
   "codemirror_mode": {
    "name": "ipython",
    "version": 3
   },
   "file_extension": ".py",
   "mimetype": "text/x-python",
   "name": "python",
   "nbconvert_exporter": "python",
   "pygments_lexer": "ipython3",
   "version": "3.10.9"
  },
  "orig_nbformat": 4
 },
 "nbformat": 4,
 "nbformat_minor": 2
}
