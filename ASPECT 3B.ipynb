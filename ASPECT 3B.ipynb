{
 "cells": [
  {
   "cell_type": "code",
   "execution_count": 1,
   "metadata": {},
   "outputs": [
    {
     "ename": "ValueError",
     "evalue": "Unknown label type: 'continuous'",
     "output_type": "error",
     "traceback": [
      "\u001b[1;31m---------------------------------------------------------------------------\u001b[0m",
      "\u001b[1;31mValueError\u001b[0m                                Traceback (most recent call last)",
      "Cell \u001b[1;32mIn[1], line 48\u001b[0m\n\u001b[0;32m     45\u001b[0m feature \u001b[39m=\u001b[39m \u001b[39m\"\u001b[39m\u001b[39mFG\u001b[39m\u001b[39m\"\u001b[39m\n\u001b[0;32m     46\u001b[0m target \u001b[39m=\u001b[39m \u001b[39m'\u001b[39m\u001b[39mkWh produced\u001b[39m\u001b[39m'\u001b[39m\n\u001b[1;32m---> 48\u001b[0m perform_logistic_regression(df, feature, target)\n",
      "Cell \u001b[1;32mIn[1], line 15\u001b[0m, in \u001b[0;36mperform_logistic_regression\u001b[1;34m(df, feature, target)\u001b[0m\n\u001b[0;32m     12\u001b[0m model \u001b[39m=\u001b[39m LogisticRegression()\n\u001b[0;32m     14\u001b[0m \u001b[39m# Fit the model to the data\u001b[39;00m\n\u001b[1;32m---> 15\u001b[0m model\u001b[39m.\u001b[39;49mfit(X, y)\n\u001b[0;32m     17\u001b[0m \u001b[39m# Print the coefficients\u001b[39;00m\n\u001b[0;32m     18\u001b[0m \u001b[39mprint\u001b[39m(\u001b[39m\"\u001b[39m\u001b[39mIntercept:\u001b[39m\u001b[39m\"\u001b[39m, model\u001b[39m.\u001b[39mintercept_)\n",
      "File \u001b[1;32mc:\\ProgramData\\anaconda3\\lib\\site-packages\\sklearn\\linear_model\\_logistic.py:1204\u001b[0m, in \u001b[0;36mLogisticRegression.fit\u001b[1;34m(self, X, y, sample_weight)\u001b[0m\n\u001b[0;32m   1194\u001b[0m     _dtype \u001b[39m=\u001b[39m [np\u001b[39m.\u001b[39mfloat64, np\u001b[39m.\u001b[39mfloat32]\n\u001b[0;32m   1196\u001b[0m X, y \u001b[39m=\u001b[39m \u001b[39mself\u001b[39m\u001b[39m.\u001b[39m_validate_data(\n\u001b[0;32m   1197\u001b[0m     X,\n\u001b[0;32m   1198\u001b[0m     y,\n\u001b[1;32m   (...)\u001b[0m\n\u001b[0;32m   1202\u001b[0m     accept_large_sparse\u001b[39m=\u001b[39msolver \u001b[39mnot\u001b[39;00m \u001b[39min\u001b[39;00m [\u001b[39m\"\u001b[39m\u001b[39mliblinear\u001b[39m\u001b[39m\"\u001b[39m, \u001b[39m\"\u001b[39m\u001b[39msag\u001b[39m\u001b[39m\"\u001b[39m, \u001b[39m\"\u001b[39m\u001b[39msaga\u001b[39m\u001b[39m\"\u001b[39m],\n\u001b[0;32m   1203\u001b[0m )\n\u001b[1;32m-> 1204\u001b[0m check_classification_targets(y)\n\u001b[0;32m   1205\u001b[0m \u001b[39mself\u001b[39m\u001b[39m.\u001b[39mclasses_ \u001b[39m=\u001b[39m np\u001b[39m.\u001b[39munique(y)\n\u001b[0;32m   1207\u001b[0m multi_class \u001b[39m=\u001b[39m _check_multi_class(\u001b[39mself\u001b[39m\u001b[39m.\u001b[39mmulti_class, solver, \u001b[39mlen\u001b[39m(\u001b[39mself\u001b[39m\u001b[39m.\u001b[39mclasses_))\n",
      "File \u001b[1;32mc:\\ProgramData\\anaconda3\\lib\\site-packages\\sklearn\\utils\\multiclass.py:207\u001b[0m, in \u001b[0;36mcheck_classification_targets\u001b[1;34m(y)\u001b[0m\n\u001b[0;32m    199\u001b[0m y_type \u001b[39m=\u001b[39m type_of_target(y, input_name\u001b[39m=\u001b[39m\u001b[39m\"\u001b[39m\u001b[39my\u001b[39m\u001b[39m\"\u001b[39m)\n\u001b[0;32m    200\u001b[0m \u001b[39mif\u001b[39;00m y_type \u001b[39mnot\u001b[39;00m \u001b[39min\u001b[39;00m [\n\u001b[0;32m    201\u001b[0m     \u001b[39m\"\u001b[39m\u001b[39mbinary\u001b[39m\u001b[39m\"\u001b[39m,\n\u001b[0;32m    202\u001b[0m     \u001b[39m\"\u001b[39m\u001b[39mmulticlass\u001b[39m\u001b[39m\"\u001b[39m,\n\u001b[1;32m   (...)\u001b[0m\n\u001b[0;32m    205\u001b[0m     \u001b[39m\"\u001b[39m\u001b[39mmultilabel-sequences\u001b[39m\u001b[39m\"\u001b[39m,\n\u001b[0;32m    206\u001b[0m ]:\n\u001b[1;32m--> 207\u001b[0m     \u001b[39mraise\u001b[39;00m \u001b[39mValueError\u001b[39;00m(\u001b[39m\"\u001b[39m\u001b[39mUnknown label type: \u001b[39m\u001b[39m%r\u001b[39;00m\u001b[39m\"\u001b[39m \u001b[39m%\u001b[39m y_type)\n",
      "\u001b[1;31mValueError\u001b[0m: Unknown label type: 'continuous'"
     ]
    }
   ],
   "source": [
    "import pandas as pd\n",
    "from sklearn.linear_model import LogisticRegression\n",
    "import matplotlib.pyplot as plt\n",
    "\n",
    "\n",
    "def perform_logistic_regression(df, feature, target):\n",
    "    # Extract the feature and target from the dataframe\n",
    "    X = df[[feature]]\n",
    "    y = df[target]\n",
    "\n",
    "    # Create an instance of the logistic regression model\n",
    "    model = LogisticRegression()\n",
    "\n",
    "    # Fit the model to the data\n",
    "    model.fit(X, y)\n",
    "\n",
    "    # Print the coefficients\n",
    "    print(\"Intercept:\", model.intercept_)\n",
    "    print(\"Coefficient:\", model.coef_[0])\n",
    "\n",
    "    # Generate the graphs\n",
    "    plt.scatter(X, y, c=y, cmap='viridis')\n",
    "    plt.xlabel(feature)\n",
    "    plt.ylabel(target)\n",
    "\n",
    "    # Plot the logistic regression line\n",
    "    x_min, x_max = X.min() - 1, X.max() + 1\n",
    "    decision_boundary_x = pd.DataFrame({'x': [x_min, x_max]})\n",
    "    decision_boundary_y = model.predict_proba(decision_boundary_x)[:, 1]\n",
    "    plt.plot(decision_boundary_x, decision_boundary_y, color='red')\n",
    "\n",
    "    plt.show()\n",
    "\n",
    "WindData = pd.read_csv(\"DATA/WindData.txt\", sep=\",\")\n",
    "WindData = WindData[WindData['On/Off'] == 1]\n",
    "\n",
    "WeatherData = pd.read_csv(\"DATA/WeatherData_Combined.txt\", sep=\",\", header=0)\n",
    "\n",
    "merged_df = pd.merge(WindData, WeatherData, on=[\n",
    "                     'Date', 'location'], how='inner')\n",
    "df = merged_df\n",
    "\n",
    "\n",
    "# Specify the name of the column to be used as the feature and target\n",
    "feature = \"FG\"\n",
    "target = 'kWh produced'\n",
    "\n",
    "perform_logistic_regression(df, feature, target)\n"
   ]
  }
 ],
 "metadata": {
  "kernelspec": {
   "display_name": "base",
   "language": "python",
   "name": "python3"
  },
  "language_info": {
   "codemirror_mode": {
    "name": "ipython",
    "version": 3
   },
   "file_extension": ".py",
   "mimetype": "text/x-python",
   "name": "python",
   "nbconvert_exporter": "python",
   "pygments_lexer": "ipython3",
   "version": "3.10.9"
  },
  "orig_nbformat": 4
 },
 "nbformat": 4,
 "nbformat_minor": 2
}
