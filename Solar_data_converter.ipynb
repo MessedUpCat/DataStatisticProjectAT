{
 "cells": [
  {
   "cell_type": "code",
   "execution_count": 10,
   "id": "dda086d0-ac5c-447e-9ba9-be1b5dfb7157",
   "metadata": {},
   "outputs": [
    {
     "name": "stdout",
     "output_type": "stream",
     "text": [
      "      Panel_location_type_and_ID      Date  kWh produced  On/Off\n",
      "0               loc269_type1_id1  20160101     64.100808       1\n",
      "1               loc269_type1_id1  20160102     12.348856       1\n",
      "2               loc269_type1_id1  20160103     16.707593       1\n",
      "3               loc269_type1_id1  20160104      9.014957       1\n",
      "4               loc269_type1_id1  20160105     23.034322       1\n",
      "...                          ...       ...           ...     ...\n",
      "43825          loc391_type3_id10  20191227     74.781257       1\n",
      "43826          loc391_type3_id10  20191228     54.389935       1\n",
      "43827          loc391_type3_id10  20191229     57.328514       1\n",
      "43828          loc391_type3_id10  20191230     73.143623       1\n",
      "43829          loc391_type3_id10  20191231      8.691913       1\n",
      "\n",
      "[106653 rows x 4 columns]\n",
      "shit data\n"
     ]
    }
   ],
   "source": [
    "import pandas as pd\n",
    "#import numpy as np\n",
    "import matplotlib.pyplot as plt\n",
    "data1 = pd.read_csv(\"DATARAW/solarData269.txt\", sep=\",\", header=None,  names=[\"Panel_location_type_and_ID\", \"Date\",\"kWh produced\", \"On/Off\"])\n",
    "data2 = pd.read_csv(\"DATARAW/solarData280.txt\", sep=\",\", header=None,  names=[\"Panel_location_type_and_ID\", \"Date\",\"kWh produced\", \"On/Off\"])\n",
    "data3 = pd.read_csv(\"DATARAW/solarData290.txt\", sep=\",\", header=None,  names=[\"Panel_location_type_and_ID\", \"Date\",\"kWh produced\", \"On/Off\"])\n",
    "data4 = pd.read_csv(\"DATARAW/solarData391.txt\", sep=\",\", header=None,  names=[\"Panel_location_type_and_ID\", \"Date\",\"kWh produced\", \"On/Off\"])\n",
    "\n",
    "frames = [data1, data2,data3,data4]\n",
    "data = pd.concat(frames)\n",
    "print(data)\n",
    "print(\"shit data\")\n",
    "#importing raw data"
   ]
  },
  {
   "cell_type": "code",
   "execution_count": 11,
   "id": "0f7b2192-710e-4163-846f-12156189ce15",
   "metadata": {},
   "outputs": [
    {
     "name": "stdout",
     "output_type": "stream",
     "text": [
      "           Date  kWh produced  On/Off location   type    ID\n",
      "0      20160101     64.100808       1   loc269  type1   id1\n",
      "1      20160102     12.348856       1   loc269  type1   id1\n",
      "2      20160103     16.707593       1   loc269  type1   id1\n",
      "3      20160104      9.014957       1   loc269  type1   id1\n",
      "4      20160105     23.034322       1   loc269  type1   id1\n",
      "...         ...           ...     ...      ...    ...   ...\n",
      "43825  20191227     74.781257       1   loc391  type3  id10\n",
      "43826  20191228     54.389935       1   loc391  type3  id10\n",
      "43827  20191229     57.328514       1   loc391  type3  id10\n",
      "43828  20191230     73.143623       1   loc391  type3  id10\n",
      "43829  20191231      8.691913       1   loc391  type3  id10\n",
      "\n",
      "[106653 rows x 6 columns]\n"
     ]
    }
   ],
   "source": [
    "data[['location', 'type','ID']] = data.Panel_location_type_and_ID.str.split(\"_\", expand = True)\n",
    "\n",
    "data = data.drop(['Panel_location_type_and_ID'], axis = 1)\n",
    "print(data)\n",
    "#fixing tables"
   ]
  },
  {
   "cell_type": "code",
   "execution_count": 12,
   "id": "24617330-bc3b-4483-be7d-7315ff656da4",
   "metadata": {},
   "outputs": [
    {
     "name": "stdout",
     "output_type": "stream",
     "text": [
      "            Date  kWh produced  On/Off location   type    ID\n",
      "0     2016-01-01     64.100808       1   loc269  type1   id1\n",
      "1     2016-01-02     12.348856       1   loc269  type1   id1\n",
      "2     2016-01-03     16.707593       1   loc269  type1   id1\n",
      "3     2016-01-04      9.014957       1   loc269  type1   id1\n",
      "4     2016-01-05     23.034322       1   loc269  type1   id1\n",
      "...          ...           ...     ...      ...    ...   ...\n",
      "43825 2019-12-27     74.781257       1   loc391  type3  id10\n",
      "43826 2019-12-28     54.389935       1   loc391  type3  id10\n",
      "43827 2019-12-29     57.328514       1   loc391  type3  id10\n",
      "43828 2019-12-30     73.143623       1   loc391  type3  id10\n",
      "43829 2019-12-31      8.691913       1   loc391  type3  id10\n",
      "\n",
      "[106653 rows x 6 columns]\n"
     ]
    }
   ],
   "source": [
    "data['Date'] = pd.to_datetime(data['Date'], format='%Y%m%d')\n",
    "print(data)\n",
    "#fixing date fotmat"
   ]
  },
  {
   "cell_type": "code",
   "execution_count": 13,
   "id": "6d38bef8-60ac-4e04-8ed5-9d16673d6fec",
   "metadata": {},
   "outputs": [
    {
     "name": "stdout",
     "output_type": "stream",
     "text": [
      "            Date  kWh produced  On/Off location type  ID\n",
      "0     2016-01-01     64.100808       1      269    1   1\n",
      "1     2016-01-02     12.348856       1      269    1   1\n",
      "2     2016-01-03     16.707593       1      269    1   1\n",
      "3     2016-01-04      9.014957       1      269    1   1\n",
      "4     2016-01-05     23.034322       1      269    1   1\n",
      "...          ...           ...     ...      ...  ...  ..\n",
      "43825 2019-12-27     74.781257       1      391    3  10\n",
      "43826 2019-12-28     54.389935       1      391    3  10\n",
      "43827 2019-12-29     57.328514       1      391    3  10\n",
      "43828 2019-12-30     73.143623       1      391    3  10\n",
      "43829 2019-12-31      8.691913       1      391    3  10\n",
      "\n",
      "[106653 rows x 6 columns]\n"
     ]
    }
   ],
   "source": [
    "#fixing type location ID\n",
    "data.type = data.type.str.slice(4)\n",
    "data.location = data.location.str.slice(3)\n",
    "data.ID = data.ID.str.slice(2)\n",
    "print(data)\n",
    "#exporting data\n",
    "data.to_csv('DATA/SolarData.txt',index=False)"
   ]
  }
 ],
 "metadata": {
  "kernelspec": {
   "display_name": "Python 3 (ipykernel)",
   "language": "python",
   "name": "python3"
  },
  "language_info": {
   "codemirror_mode": {
    "name": "ipython",
    "version": 3
   },
   "file_extension": ".py",
   "mimetype": "text/x-python",
   "name": "python",
   "nbconvert_exporter": "python",
   "pygments_lexer": "ipython3",
   "version": "3.10.9"
  }
 },
 "nbformat": 4,
 "nbformat_minor": 5
}
