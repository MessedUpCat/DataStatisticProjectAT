{
 "cells": [
  {
   "cell_type": "code",
   "execution_count": 23,
   "id": "dda086d0-ac5c-447e-9ba9-be1b5dfb7157",
   "metadata": {},
   "outputs": [
    {
     "name": "stdout",
     "output_type": "stream",
     "text": [
      "      Panel_location_type_and_ID      Date  kWh produced  On/Off\n",
      "0               loc269_type1_id1  20160101     64.100808       1\n",
      "1               loc269_type1_id1  20160102     12.348856       1\n",
      "2               loc269_type1_id1  20160103     16.707593       1\n",
      "3               loc269_type1_id1  20160104      9.014957       1\n",
      "4               loc269_type1_id1  20160105     23.034322       1\n",
      "...                          ...       ...           ...     ...\n",
      "18988           loc269_type3_id3  20191227     52.287733       1\n",
      "18989           loc269_type3_id3  20191228     44.268893       1\n",
      "18990           loc269_type3_id3  20191229     51.401230       1\n",
      "18991           loc269_type3_id3  20191230     55.647981       1\n",
      "18992           loc269_type3_id3  20191231     42.710117       1\n",
      "\n",
      "[18993 rows x 4 columns]\n"
     ]
    }
   ],
   "source": [
    "import pandas as pd\n",
    "import numpy as np\n",
    "import matplotlib.pyplot as plt\n",
    "data = pd.read_csv(\"solarData269.txt\", sep=\",\", header=None,  names=[\"Panel_location_type_and_ID\", \"Date\",\"kWh produced\", \"On/Off\"])\n",
    "\n",
    "print(data)\n"
   ]
  },
  {
   "cell_type": "code",
   "execution_count": 36,
   "id": "0f7b2192-710e-4163-846f-12156189ce15",
   "metadata": {},
   "outputs": [
    {
     "name": "stdout",
     "output_type": "stream",
     "text": [
      "           Date  kWh produced  On/Off location   type   ID\n",
      "0      20160101     64.100808       1   loc269  type1  id1\n",
      "1      20160102     12.348856       1   loc269  type1  id1\n",
      "2      20160103     16.707593       1   loc269  type1  id1\n",
      "3      20160104      9.014957       1   loc269  type1  id1\n",
      "4      20160105     23.034322       1   loc269  type1  id1\n",
      "...         ...           ...     ...      ...    ...  ...\n",
      "18988  20191227     52.287733       1   loc269  type3  id3\n",
      "18989  20191228     44.268893       1   loc269  type3  id3\n",
      "18990  20191229     51.401230       1   loc269  type3  id3\n",
      "18991  20191230     55.647981       1   loc269  type3  id3\n",
      "18992  20191231     42.710117       1   loc269  type3  id3\n",
      "\n",
      "[18993 rows x 6 columns]\n"
     ]
    }
   ],
   "source": [
    "data[['location', 'type','ID']] = data.Panel_location_type_and_ID.str.split(\"_\", expand = True)\n",
    "\n",
    "data = data.drop(['Panel_location_type_and_ID'], axis = 1)\n",
    "print(data)"
   ]
  },
  {
   "cell_type": "code",
   "execution_count": 37,
   "id": "24617330-bc3b-4483-be7d-7315ff656da4",
   "metadata": {},
   "outputs": [
    {
     "name": "stdout",
     "output_type": "stream",
     "text": [
      "            Date  kWh produced  On/Off location   type   ID\n",
      "0     2016-01-01     64.100808       1   loc269  type1  id1\n",
      "1     2016-01-02     12.348856       1   loc269  type1  id1\n",
      "2     2016-01-03     16.707593       1   loc269  type1  id1\n",
      "3     2016-01-04      9.014957       1   loc269  type1  id1\n",
      "4     2016-01-05     23.034322       1   loc269  type1  id1\n",
      "...          ...           ...     ...      ...    ...  ...\n",
      "18988 2019-12-27     52.287733       1   loc269  type3  id3\n",
      "18989 2019-12-28     44.268893       1   loc269  type3  id3\n",
      "18990 2019-12-29     51.401230       1   loc269  type3  id3\n",
      "18991 2019-12-30     55.647981       1   loc269  type3  id3\n",
      "18992 2019-12-31     42.710117       1   loc269  type3  id3\n",
      "\n",
      "[18993 rows x 6 columns]\n"
     ]
    }
   ],
   "source": [
    "data['Date'] = pd.to_datetime(data['Date'], format='%Y%m%d')\n",
    "print(data)"
   ]
  },
  {
   "cell_type": "code",
   "execution_count": null,
   "id": "6d38bef8-60ac-4e04-8ed5-9d16673d6fec",
   "metadata": {},
   "outputs": [],
   "source": []
  }
 ],
 "metadata": {
  "kernelspec": {
   "display_name": "Python 3 (ipykernel)",
   "language": "python",
   "name": "python3"
  },
  "language_info": {
   "codemirror_mode": {
    "name": "ipython",
    "version": 3
   },
   "file_extension": ".py",
   "mimetype": "text/x-python",
   "name": "python",
   "nbconvert_exporter": "python",
   "pygments_lexer": "ipython3",
   "version": "3.10.9"
  }
 },
 "nbformat": 4,
 "nbformat_minor": 5
}
