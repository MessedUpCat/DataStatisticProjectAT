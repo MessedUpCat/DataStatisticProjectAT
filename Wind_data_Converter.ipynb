{
 "cells": [
  {
   "cell_type": "code",
   "execution_count": null,
   "metadata": {},
   "outputs": [],
   "source": [
    "import pandas as pd\n",
    "#import numpy as np\n",
    "import matplotlib.pyplot as plt\n"
   ]
  },
  {
   "cell_type": "code",
   "execution_count": null,
   "metadata": {},
   "outputs": [],
   "source": [
    "#importing raw data\n",
    "data1 = pd.read_csv(\"DATARAW/WMData269.txt\", sep=\",\", header=None,  names=[\"Panel_location_type_and_ID\", \"Date\",\"kWh produced\", \"On/Off\"])\n",
    "data2 = pd.read_csv(\"DATARAW/WMData280.txt\", sep=\",\", header=None,  names=[\"Panel_location_type_and_ID\", \"Date\",\"kWh produced\", \"On/Off\"])\n",
    "data3 = pd.read_csv(\"DATARAW/WMData290.txt\", sep=\",\", header=None,  names=[\"Panel_location_type_and_ID\", \"Date\",\"kWh produced\", \"On/Off\"])\n",
    "data4 = pd.read_csv(\"DATARAW/WMData391.txt\", sep=\",\", header=None,  names=[\"Panel_location_type_and_ID\", \"Date\",\"kWh produced\", \"On/Off\"])\n",
    "\n",
    "frames = [data1, data2,data3,data4]\n",
    "data = pd.concat(frames)\n",
    "print(data)\n",
    "print(\"shit data\")\n",
    "\n",
    "data[['location', 'type','ID']] = data.Panel_location_type_and_ID.str.split(\"_\", expand = True)\n"
   ]
  },
  {
   "cell_type": "code",
   "execution_count": null,
   "metadata": {},
   "outputs": [],
   "source": [
    "\n",
    "#fixing tables\n",
    "data = data.drop(['Panel_location_type_and_ID'], axis = 1)\n",
    "print(data)\n"
   ]
  },
  {
   "cell_type": "code",
   "execution_count": null,
   "metadata": {},
   "outputs": [],
   "source": [
    "\n",
    "#fixing date fotmat\n",
    "data['Date'] = pd.to_datetime(data['Date'], format='%Y%m%d')\n",
    "print(data)\n"
   ]
  },
  {
   "cell_type": "code",
   "execution_count": null,
   "metadata": {},
   "outputs": [],
   "source": [
    "\n",
    "#fixing type location ID\n",
    "data.type = data.type.str.slice(4)\n",
    "data.location = data.location.str.slice(3)\n",
    "data.ID = data.ID.str.slice(2)\n",
    "print(data)\n"
   ]
  },
  {
   "cell_type": "code",
   "execution_count": null,
   "metadata": {},
   "outputs": [],
   "source": [
    "\n",
    "#exporting data\n",
    "data.to_csv('DATA/WindData.txt',index=False)"
   ]
  }
 ],
 "metadata": {
  "kernelspec": {
   "display_name": "base",
   "language": "python",
   "name": "python3"
  },
  "language_info": {
   "codemirror_mode": {
    "name": "ipython",
    "version": 3
   },
   "file_extension": ".py",
   "mimetype": "text/x-python",
   "name": "python",
   "nbconvert_exporter": "python",
   "pygments_lexer": "ipython3",
   "version": "3.10.9"
  },
  "orig_nbformat": 4
 },
 "nbformat": 4,
 "nbformat_minor": 2
}
