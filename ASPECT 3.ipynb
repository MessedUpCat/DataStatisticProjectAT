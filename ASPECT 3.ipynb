{
 "cells": [
  {
   "cell_type": "code",
   "execution_count": 79,
   "metadata": {},
   "outputs": [
    {
     "name": "stdout",
     "output_type": "stream",
     "text": [
      "             Date  kWh produced  On/Off  location  type  ID  STN  DDVEC  \\\n",
      "0      2016-01-01     64.100808       1       269     1   1  269  151.0   \n",
      "1      2016-01-01     28.134465       1       269     1   2  269  151.0   \n",
      "2      2016-01-01     55.297493       1       269     1   3  269  151.0   \n",
      "3      2016-01-01     43.465456       1       269     1   4  269  151.0   \n",
      "4      2016-01-01     40.885177       1       269     1   5  269  151.0   \n",
      "...           ...           ...     ...       ...   ...  ..  ...    ...   \n",
      "18988  2019-12-31     33.646132       1       269     2   4  269  286.0   \n",
      "18989  2019-12-31     58.271505       1       269     2   5  269  286.0   \n",
      "18990  2019-12-31     57.923296       1       269     3   1  269  286.0   \n",
      "18991  2019-12-31     38.244992       1       269     3   2  269  286.0   \n",
      "18992  2019-12-31     42.710117       1       269     3   3  269  286.0   \n",
      "\n",
      "       FHVEC    FG  ...  VVNH   VVX  VVXH   NG    UG     UX   UXH    UN   UNH  \\\n",
      "0       22.0  34.0  ...  12.0  59.0  24.0  5.0  96.0  100.0   9.0  83.0   1.0   \n",
      "1       22.0  34.0  ...  12.0  59.0  24.0  5.0  96.0  100.0   9.0  83.0   1.0   \n",
      "2       22.0  34.0  ...  12.0  59.0  24.0  5.0  96.0  100.0   9.0  83.0   1.0   \n",
      "3       22.0  34.0  ...  12.0  59.0  24.0  5.0  96.0  100.0   9.0  83.0   1.0   \n",
      "4       22.0  34.0  ...  12.0  59.0  24.0  5.0  96.0  100.0   9.0  83.0   1.0   \n",
      "...      ...   ...  ...   ...   ...   ...  ...   ...    ...   ...   ...   ...   \n",
      "18988    4.0  15.0  ...  19.0  64.0   5.0  7.0  97.0   99.0  18.0  89.0  13.0   \n",
      "18989    4.0  15.0  ...  19.0  64.0   5.0  7.0  97.0   99.0  18.0  89.0  13.0   \n",
      "18990    4.0  15.0  ...  19.0  64.0   5.0  7.0  97.0   99.0  18.0  89.0  13.0   \n",
      "18991    4.0  15.0  ...  19.0  64.0   5.0  7.0  97.0   99.0  18.0  89.0  13.0   \n",
      "18992    4.0  15.0  ...  19.0  64.0   5.0  7.0  97.0   99.0  18.0  89.0  13.0   \n",
      "\n",
      "       EV24  \n",
      "0       3.0  \n",
      "1       3.0  \n",
      "2       3.0  \n",
      "3       3.0  \n",
      "4       3.0  \n",
      "...     ...  \n",
      "18988   3.0  \n",
      "18989   3.0  \n",
      "18990   3.0  \n",
      "18991   3.0  \n",
      "18992   3.0  \n",
      "\n",
      "[18993 rows x 46 columns]\n"
     ]
    },
    {
     "name": "stderr",
     "output_type": "stream",
     "text": [
      "C:\\Users\\bruno\\AppData\\Local\\Temp\\ipykernel_5484\\4127962788.py:20: FutureWarning: The default value of numeric_only in DataFrame.corr is deprecated. In a future version, it will default to False. Select only valid columns or specify the value of numeric_only to silence this warning.\n",
      "  data = df.corr()['kWh produced'].drop('kWh produced')\n"
     ]
    }
   ],
   "source": [
    "import pandas as pd\n",
    "#import numpy as np\n",
    "import seaborn as sns\n",
    "import matplotlib.pyplot as plt\n",
    "from sklearn.linear_model import LogisticRegression\n",
    "from sklearn.linear_model import LinearRegression\n",
    "\n",
    "#load data\n",
    "WeatherData_269 = pd.read_csv(\"DATA/WeatherData_269.txt\", sep=\",\", header=0)\n",
    "SolarData = pd.read_csv(\"DATA/SolarData.txt\", sep=\",\")\n",
    "\n",
    "filtered_df = SolarData[SolarData['location'] == 269]\n",
    "\n",
    "\n",
    "merged_df = pd.merge(filtered_df, WeatherData_269,on='Date', how='inner')\n",
    "\n",
    "df = merged_df\n",
    "print(merged_df)\n",
    "\n",
    "data = df.corr()['kWh produced'].drop('kWh produced')\n",
    "\n",
    "# TODO zapętlić pozostałe lokacje, grafy i współczynniki, zrobić wiatraki"
   ]
  },
  {
   "cell_type": "code",
   "execution_count": 82,
   "metadata": {},
   "outputs": [
    {
     "name": "stdout",
     "output_type": "stream",
     "text": [
      "TG      0.660074\n",
      "TX      0.737026\n",
      "SQ      0.846054\n",
      "SP      0.653383\n",
      "Q       0.984731\n",
      "VVX     0.575260\n",
      "EV24    0.971144\n",
      "Name: kWh produced, dtype: float64\n"
     ]
    }
   ],
   "source": [
    "\n",
    "data = data[data > 0.5]\n",
    "data.to_csv('correlation')\n",
    "print(data)\n"
   ]
  }
 ],
 "metadata": {
  "kernelspec": {
   "display_name": "base",
   "language": "python",
   "name": "python3"
  },
  "language_info": {
   "codemirror_mode": {
    "name": "ipython",
    "version": 3
   },
   "file_extension": ".py",
   "mimetype": "text/x-python",
   "name": "python",
   "nbconvert_exporter": "python",
   "pygments_lexer": "ipython3",
   "version": "3.10.9"
  },
  "orig_nbformat": 4
 },
 "nbformat": 4,
 "nbformat_minor": 2
}
