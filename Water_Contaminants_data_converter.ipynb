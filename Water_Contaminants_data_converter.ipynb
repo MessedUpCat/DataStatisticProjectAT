{
 "cells": [
  {
   "cell_type": "code",
   "execution_count": null,
   "metadata": {},
   "outputs": [],
   "source": [
    "import pandas as pd\n",
    "#import numpy as np\n",
    "import matplotlib.pyplot as plt"
   ]
  },
  {
   "cell_type": "code",
   "execution_count": null,
   "metadata": {},
   "outputs": [],
   "source": [
    "#importing raw data\n",
    "datab1 = pd.read_csv(\"DATARAW/FWDataB1.txt\", sep=\",\", header=None,  names=[\"location\", \"Date\",\"level_B1\"])\n",
    "datab2 = pd.read_csv(\"DATARAW/FWDataB2.txt\", sep=\",\", header=None,  names=[\"location\", \"Date\",\"level_B2\"])\n",
    "datado = pd.read_csv(\"DATARAW/FWDataDO.txt\", sep=\",\", header=None,  names=[\"location\", \"Date\",\"level_DO\"])\n",
    "datanh3 = pd.read_csv(\"DATARAW/FWDataNH3.txt\", sep=\",\", header=None,  names=[\"location\", \"Date\",\"level_NH3\"])\n",
    "datapb = pd.read_csv(\"DATARAW/FWDataPb.txt\", sep=\",\", header=None,  names=[\"location\", \"Date\",\"level_Pb\"])\n",
    "dataso4 = pd.read_csv(\"DATARAW/FWDataSO4.txt\", sep=\",\", header=None,  names=[\"location\", \"Date\",\"level_SO4\"])\n",
    "datatoc = pd.read_csv(\"DATARAW/FWDataTOC.txt\", sep=\",\", header=None,  names=[\"location\", \"Date\",\"level_TOC\"])\n",
    "#frames = [datab1, datab2.level]\n",
    "\n",
    "data = pd.concat([datab1, datab2.level_B2,datado.level_DO,datanh3.level_NH3,dataso4.level_SO4,datatoc.level_TOC], axis = 1)\n",
    "print(data)\n",
    "print(\"shit data\")\n",
    "\n",
    "\n"
   ]
  },
  {
   "cell_type": "code",
   "execution_count": null,
   "metadata": {},
   "outputs": [],
   "source": [
    "\n",
    "#fixing date fotmat\n",
    "data['Date'] = pd.to_datetime(data['Date'], format='%Y%m%d')\n",
    "print(data)\n"
   ]
  },
  {
   "cell_type": "code",
   "execution_count": null,
   "metadata": {},
   "outputs": [],
   "source": [
    "\n",
    "#fixing type location ID\n",
    "data.location = data.location.str.slice(5)\n",
    "\n",
    "print(data)\n"
   ]
  },
  {
   "cell_type": "code",
   "execution_count": 17,
   "metadata": {},
   "outputs": [],
   "source": [
    "\n",
    "#exporting data\n",
    "data.to_csv('DATA/WaterContaminantsData.txt',index=False)"
   ]
  }
 ],
 "metadata": {
  "kernelspec": {
   "display_name": "base",
   "language": "python",
   "name": "python3"
  },
  "language_info": {
   "codemirror_mode": {
    "name": "ipython",
    "version": 3
   },
   "file_extension": ".py",
   "mimetype": "text/x-python",
   "name": "python",
   "nbconvert_exporter": "python",
   "pygments_lexer": "ipython3",
   "version": "3.10.9"
  },
  "orig_nbformat": 4
 },
 "nbformat": 4,
 "nbformat_minor": 2
}
