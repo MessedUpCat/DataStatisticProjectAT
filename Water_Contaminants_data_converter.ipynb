{
 "cells": [
  {
   "cell_type": "code",
   "execution_count": 1,
   "metadata": {},
   "outputs": [],
   "source": [
    "import pandas as pd\n",
    "#import numpy as np\n",
    "import matplotlib.pyplot as plt"
   ]
  },
  {
   "cell_type": "code",
   "execution_count": 2,
   "metadata": {},
   "outputs": [
    {
     "name": "stdout",
     "output_type": "stream",
     "text": [
      "     location      Date    level_B1    level_B2   level_DO  level_NH3  \\\n",
      "0      FW_idX  20160101  139.252019  162.532646   8.448614   0.080867   \n",
      "1      FW_idX  20160102   74.539639  149.577626   9.318496   0.093880   \n",
      "2      FW_idX  20160103  148.460228   97.155684   8.298484   0.090654   \n",
      "3      FW_idX  20160104  162.666606  121.813810   8.012089   0.086107   \n",
      "4      FW_idX  20160105  167.728965  128.026467   8.779783   0.089366   \n",
      "...       ...       ...         ...         ...        ...        ...   \n",
      "4378   FW_idZ  20191227  185.684481  125.314582  10.092860   0.096479   \n",
      "4379   FW_idZ  20191228  126.106367  137.304298   8.251856   0.091691   \n",
      "4380   FW_idZ  20191229   97.905957  188.233631   9.888259   0.096353   \n",
      "4381   FW_idZ  20191230  186.981782  105.318255  11.204710   0.082360   \n",
      "4382   FW_idZ  20191231  126.755841  134.972427  11.237300   0.079215   \n",
      "\n",
      "      level_Pb   level_SO4  level_TOC  \n",
      "0     5.519584    5.520065          2  \n",
      "1     3.641024   34.132930          2  \n",
      "2     8.673581   28.549390          3  \n",
      "3     5.321139   11.476110          6  \n",
      "4     8.162737   98.881460          4  \n",
      "...        ...         ...        ...  \n",
      "4378  8.793487   44.907470          3  \n",
      "4379  6.541244   71.035750          7  \n",
      "4380  8.699546    2.472322          3  \n",
      "4381  3.030464    0.948074          5  \n",
      "4382  5.243908  114.374400          4  \n",
      "\n",
      "[4383 rows x 9 columns]\n",
      "shit data\n"
     ]
    }
   ],
   "source": [
    "#importing raw data\n",
    "datab1 = pd.read_csv(\"DATARAW/FWDataB1.txt\", sep=\",\", header=None,  names=[\"location\", \"Date\",\"level_B1\"])\n",
    "datab2 = pd.read_csv(\"DATARAW/FWDataB2.txt\", sep=\",\", header=None,  names=[\"location\", \"Date\",\"level_B2\"])\n",
    "datado = pd.read_csv(\"DATARAW/FWDataDO.txt\", sep=\",\", header=None,  names=[\"location\", \"Date\",\"level_DO\"])\n",
    "datanh3 = pd.read_csv(\"DATARAW/FWDataNH3.txt\", sep=\",\", header=None,  names=[\"location\", \"Date\",\"level_NH3\"])\n",
    "datapb = pd.read_csv(\"DATARAW/FWDataPb.txt\", sep=\",\", header=None,  names=[\"location\", \"Date\",\"level_Pb\"])\n",
    "dataso4 = pd.read_csv(\"DATARAW/FWDataSO4.txt\", sep=\",\", header=None,  names=[\"location\", \"Date\",\"level_SO4\"])\n",
    "datatoc = pd.read_csv(\"DATARAW/FWDataTOC.txt\", sep=\",\", header=None,  names=[\"location\", \"Date\",\"level_TOC\"])\n",
    "#frames = [datab1, datab2.level]\n",
    "\n",
    "data = pd.concat([datab1, datab2.level_B2,datado.level_DO,datanh3.level_NH3,datapb.level_Pb,dataso4.level_SO4,datatoc.level_TOC], axis = 1)\n",
    "print(data)\n",
    "print(\"shit data\")\n",
    "\n",
    "\n"
   ]
  },
  {
   "cell_type": "code",
   "execution_count": 3,
   "metadata": {},
   "outputs": [
    {
     "name": "stdout",
     "output_type": "stream",
     "text": [
      "     location       Date    level_B1    level_B2   level_DO  level_NH3  \\\n",
      "0      FW_idX 2016-01-01  139.252019  162.532646   8.448614   0.080867   \n",
      "1      FW_idX 2016-01-02   74.539639  149.577626   9.318496   0.093880   \n",
      "2      FW_idX 2016-01-03  148.460228   97.155684   8.298484   0.090654   \n",
      "3      FW_idX 2016-01-04  162.666606  121.813810   8.012089   0.086107   \n",
      "4      FW_idX 2016-01-05  167.728965  128.026467   8.779783   0.089366   \n",
      "...       ...        ...         ...         ...        ...        ...   \n",
      "4378   FW_idZ 2019-12-27  185.684481  125.314582  10.092860   0.096479   \n",
      "4379   FW_idZ 2019-12-28  126.106367  137.304298   8.251856   0.091691   \n",
      "4380   FW_idZ 2019-12-29   97.905957  188.233631   9.888259   0.096353   \n",
      "4381   FW_idZ 2019-12-30  186.981782  105.318255  11.204710   0.082360   \n",
      "4382   FW_idZ 2019-12-31  126.755841  134.972427  11.237300   0.079215   \n",
      "\n",
      "      level_Pb   level_SO4  level_TOC  \n",
      "0     5.519584    5.520065          2  \n",
      "1     3.641024   34.132930          2  \n",
      "2     8.673581   28.549390          3  \n",
      "3     5.321139   11.476110          6  \n",
      "4     8.162737   98.881460          4  \n",
      "...        ...         ...        ...  \n",
      "4378  8.793487   44.907470          3  \n",
      "4379  6.541244   71.035750          7  \n",
      "4380  8.699546    2.472322          3  \n",
      "4381  3.030464    0.948074          5  \n",
      "4382  5.243908  114.374400          4  \n",
      "\n",
      "[4383 rows x 9 columns]\n"
     ]
    }
   ],
   "source": [
    "\n",
    "#fixing date fotmat\n",
    "data['Date'] = pd.to_datetime(data['Date'], format='%Y%m%d')\n",
    "print(data)\n"
   ]
  },
  {
   "cell_type": "code",
   "execution_count": 4,
   "metadata": {},
   "outputs": [
    {
     "name": "stdout",
     "output_type": "stream",
     "text": [
      "     location       Date    level_B1    level_B2   level_DO  level_NH3  \\\n",
      "0           X 2016-01-01  139.252019  162.532646   8.448614   0.080867   \n",
      "1           X 2016-01-02   74.539639  149.577626   9.318496   0.093880   \n",
      "2           X 2016-01-03  148.460228   97.155684   8.298484   0.090654   \n",
      "3           X 2016-01-04  162.666606  121.813810   8.012089   0.086107   \n",
      "4           X 2016-01-05  167.728965  128.026467   8.779783   0.089366   \n",
      "...       ...        ...         ...         ...        ...        ...   \n",
      "4378        Z 2019-12-27  185.684481  125.314582  10.092860   0.096479   \n",
      "4379        Z 2019-12-28  126.106367  137.304298   8.251856   0.091691   \n",
      "4380        Z 2019-12-29   97.905957  188.233631   9.888259   0.096353   \n",
      "4381        Z 2019-12-30  186.981782  105.318255  11.204710   0.082360   \n",
      "4382        Z 2019-12-31  126.755841  134.972427  11.237300   0.079215   \n",
      "\n",
      "      level_Pb   level_SO4  level_TOC  \n",
      "0     5.519584    5.520065          2  \n",
      "1     3.641024   34.132930          2  \n",
      "2     8.673581   28.549390          3  \n",
      "3     5.321139   11.476110          6  \n",
      "4     8.162737   98.881460          4  \n",
      "...        ...         ...        ...  \n",
      "4378  8.793487   44.907470          3  \n",
      "4379  6.541244   71.035750          7  \n",
      "4380  8.699546    2.472322          3  \n",
      "4381  3.030464    0.948074          5  \n",
      "4382  5.243908  114.374400          4  \n",
      "\n",
      "[4383 rows x 9 columns]\n"
     ]
    }
   ],
   "source": [
    "\n",
    "#fixing type location ID\n",
    "data.location = data.location.str.slice(5)\n",
    "\n",
    "print(data)\n"
   ]
  },
  {
   "cell_type": "code",
   "execution_count": 5,
   "metadata": {},
   "outputs": [],
   "source": [
    "\n",
    "#exporting data\n",
    "data.to_csv('DATA/WaterContaminantsData.txt',index=False)"
   ]
  }
 ],
 "metadata": {
  "kernelspec": {
   "display_name": "base",
   "language": "python",
   "name": "python3"
  },
  "language_info": {
   "codemirror_mode": {
    "name": "ipython",
    "version": 3
   },
   "file_extension": ".py",
   "mimetype": "text/x-python",
   "name": "python",
   "nbconvert_exporter": "python",
   "pygments_lexer": "ipython3",
   "version": "3.10.9"
  },
  "orig_nbformat": 4
 },
 "nbformat": 4,
 "nbformat_minor": 2
}
