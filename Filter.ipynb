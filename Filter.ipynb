{
 "cells": [
  {
   "cell_type": "code",
   "execution_count": 1,
   "metadata": {},
   "outputs": [
    {
     "name": "stdout",
     "output_type": "stream",
     "text": [
      "     polution_level  ground_truth_decision\n",
      "0         20.470075                      1\n",
      "1         16.692038                     -1\n",
      "2         17.913948                     -1\n",
      "3         19.084166                     -1\n",
      "4         20.084084                      1\n",
      "..              ...                    ...\n",
      "195       19.388290                     -1\n",
      "196       14.866917                     -1\n",
      "197       16.399455                     -1\n",
      "198       18.517292                     -1\n",
      "199       16.754950                     -1\n",
      "\n",
      "[200 rows x 2 columns]\n"
     ]
    }
   ],
   "source": [
    "import pandas as pd\n",
    "#import numpy as np\n",
    "import matplotlib.pyplot as plt\n",
    "#reading data\n",
    "df = pd.read_csv(\"DATARAW/filter.txt\", sep=\",\", header=None,  names=[\"polution_level\",\"ground_truth_decision\"])\n",
    "\n",
    "print(df)"
   ]
  }
 ],
 "metadata": {
  "kernelspec": {
   "display_name": "base",
   "language": "python",
   "name": "python3"
  },
  "language_info": {
   "codemirror_mode": {
    "name": "ipython",
    "version": 3
   },
   "file_extension": ".py",
   "mimetype": "text/x-python",
   "name": "python",
   "nbconvert_exporter": "python",
   "pygments_lexer": "ipython3",
   "version": "3.10.9"
  },
  "orig_nbformat": 4
 },
 "nbformat": 4,
 "nbformat_minor": 2
}
