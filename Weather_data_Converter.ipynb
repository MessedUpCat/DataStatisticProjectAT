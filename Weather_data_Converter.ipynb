{
 "cells": [
  {
   "cell_type": "code",
   "execution_count": 4,
   "metadata": {},
   "outputs": [
    {
     "name": "stdout",
     "output_type": "stream",
     "text": [
      "        STN       Date  DDVEC  FHVEC     FG    FHX   FHXH    FHN   FHNH  \\\n",
      "0       269 1990-01-01                                                    \n",
      "1       269 1990-01-02                                                    \n",
      "2       269 1990-01-03                                                    \n",
      "3       269 1990-01-04                                                    \n",
      "4       269 1990-01-05                                                    \n",
      "...     ...        ...    ...    ...    ...    ...    ...    ...    ...   \n",
      "10999   269 2020-02-12    251     81     84    110      3     40     20   \n",
      "11000   269 2020-02-13    188     46     54     80      9     30     18   \n",
      "11001   269 2020-02-14    225     35     44     80     23     20      5   \n",
      "11002   269 2020-02-15    196     87     88    140     24     60      2   \n",
      "11003   269 2020-02-16    214    119    125    160     16     80     19   \n",
      "\n",
      "         FXX  ...   VVNH    VVX   VVXH     NG     UG     UX    UXH     UN  \\\n",
      "0             ...                                                           \n",
      "1             ...                                                           \n",
      "2             ...                                                           \n",
      "3             ...                                                           \n",
      "4             ...                                                           \n",
      "...      ...  ...    ...    ...    ...    ...    ...    ...    ...    ...   \n",
      "10999    170  ...      9     80     16      6     70     87     24     63   \n",
      "11000    140  ...     15     70      4      7     90     95     18     83   \n",
      "11001    110  ...      5     75     11      8     84     96      6     73   \n",
      "11002    210  ...      8     75     15      8     78     87      8     70   \n",
      "11003    250  ...     16     75      1      8     82     91     18     68   \n",
      "\n",
      "         UNH   EV24  \n",
      "0                    \n",
      "1                    \n",
      "2                    \n",
      "3                    \n",
      "4                    \n",
      "...      ...    ...  \n",
      "10999      1      7  \n",
      "11000      6      3  \n",
      "11001     12      6  \n",
      "11002     16      5  \n",
      "11003     24      3  \n",
      "\n",
      "[11004 rows x 41 columns]\n"
     ]
    }
   ],
   "source": [
    "import pandas as pd\n",
    "#import numpy as np\n",
    "import matplotlib.pyplot as plt\n",
    "\n",
    "data = pd.read_csv(\"DATARAW/RAWData_269.txt\", sep=\",\")\n",
    "\n",
    "data['YYYYMMDD'] = pd.to_datetime(data['YYYYMMDD'], format='%Y%m%d')\n",
    "data.rename(columns={'YYYYMMDD': 'Date'}, inplace=True)\n",
    "print(data)\n",
    "data.to_csv('DATA/WeatherData_269.txt',index=False)\n"
   ]
  },
  {
   "cell_type": "code",
   "execution_count": 5,
   "metadata": {},
   "outputs": [
    {
     "name": "stderr",
     "output_type": "stream",
     "text": [
      "C:\\Users\\bruno\\AppData\\Local\\Temp\\ipykernel_8384\\2434246360.py:1: DtypeWarning: Columns (2,3,4,5,6,7,8,9,10,11,12,13,14,15,16,17,18,19,20,22,23,24,27,29,35,36,37,38,39,40) have mixed types. Specify dtype option on import or set low_memory=False.\n",
      "  data = pd.read_csv(\"DATARAW/RAWData_280.txt\", sep=\",\")\n"
     ]
    },
    {
     "name": "stdout",
     "output_type": "stream",
     "text": [
      "        STN       Date  DDVEC  FHVEC     FG    FHX   FHXH    FHN   FHNH  \\\n",
      "0       280 1906-01-01                                                    \n",
      "1       280 1906-01-02                                                    \n",
      "2       280 1906-01-03                                                    \n",
      "3       280 1906-01-04                                                    \n",
      "4       280 1906-01-05                                                    \n",
      "...     ...        ...    ...    ...    ...    ...    ...    ...    ...   \n",
      "41680   280 2020-02-12    250     82     83    110      4     50     21   \n",
      "41681   280 2020-02-13    168     37     41     70     12     20     21   \n",
      "41682   280 2020-02-14    219     27     36     70     24     20      1   \n",
      "41683   280 2020-02-15    195     81     81    120     22     60      1   \n",
      "41684   280 2020-02-16    218     97    105    140     11     40     15   \n",
      "\n",
      "         FXX  ...   VVNH    VVX   VVXH     NG     UG     UX    UXH     UN  \\\n",
      "0             ...                                                           \n",
      "1             ...                                                           \n",
      "2             ...                                                           \n",
      "3             ...                                                           \n",
      "4             ...                                                           \n",
      "...      ...  ...    ...    ...    ...    ...    ...    ...    ...    ...   \n",
      "41680    170  ...      6     75     20      6     73     83     24     66   \n",
      "41681    130  ...     22     70      1      8     92     98     22     84   \n",
      "41682    110  ...      2     75     11      8     84     96      1     73   \n",
      "41683    200  ...     10     80     23      8     79     88     10     68   \n",
      "41684    220  ...     10     75      1      8     85     98     15     72   \n",
      "\n",
      "         UNH   EV24  \n",
      "0                    \n",
      "1                    \n",
      "2                    \n",
      "3                    \n",
      "4                    \n",
      "...      ...    ...  \n",
      "41680     15      5  \n",
      "41681      8      1  \n",
      "41682     11      5  \n",
      "41683     22      5  \n",
      "41684      1      2  \n",
      "\n",
      "[41685 rows x 41 columns]\n"
     ]
    }
   ],
   "source": [
    "data = pd.read_csv(\"DATARAW/RAWData_280.txt\", sep=\",\")\n",
    "\n",
    "data['YYYYMMDD'] = pd.to_datetime(data['YYYYMMDD'], format='%Y%m%d')\n",
    "data.rename(columns={'YYYYMMDD': 'Date'}, inplace=True)\n",
    "print(data)\n",
    "data.to_csv('DATA/WeatherData_280.txt',index=False)"
   ]
  },
  {
   "cell_type": "code",
   "execution_count": 6,
   "metadata": {},
   "outputs": [
    {
     "name": "stderr",
     "output_type": "stream",
     "text": [
      "C:\\Users\\bruno\\AppData\\Local\\Temp\\ipykernel_8384\\3476059921.py:1: DtypeWarning: Columns (2,3,4,5,6,7,8,9,10,11,12,13,14,15,18,19,20,21,22,23,24,25,26,27,28,29,35,36,37,38,39,40) have mixed types. Specify dtype option on import or set low_memory=False.\n",
      "  data = pd.read_csv(\"DATARAW/RAWData_290.txt\", sep=\",\")\n"
     ]
    },
    {
     "name": "stdout",
     "output_type": "stream",
     "text": [
      "        STN       Date  DDVEC  FHVEC     FG    FHX   FHXH    FHN   FHNH  \\\n",
      "0       290 1951-01-01    175     41     46     93     20     15      1   \n",
      "1       290 1951-01-02    158     15     15     62      1      0     17   \n",
      "2       290 1951-01-03    208     15     15     36     20      0      1   \n",
      "3       290 1951-01-04    198     62     67     93     14     41      1   \n",
      "4       290 1951-01-05    202     67     72     98     24     26      6   \n",
      "...     ...        ...    ...    ...    ...    ...    ...    ...    ...   \n",
      "25244   290 2020-02-12    243     75     78    100     10     40     24   \n",
      "25245   290 2020-02-13    173     46     50     80     12     20     21   \n",
      "25246   290 2020-02-14    231     33     38     50     15     30      3   \n",
      "25247   290 2020-02-15    192     74     75    100     21     50      1   \n",
      "25248   290 2020-02-16    210     96    103    140     18     80     20   \n",
      "\n",
      "         FXX  ...   VVNH    VVX   VVXH     NG     UG     UX    UXH     UN  \\\n",
      "0             ...                           7                               \n",
      "1             ...                           8                               \n",
      "2             ...                           8                               \n",
      "3             ...                           8                               \n",
      "4             ...                           8                               \n",
      "...      ...  ...    ...    ...    ...    ...    ...    ...    ...    ...   \n",
      "25244    170  ...      3     83     16      6     68     81     24     56   \n",
      "25245    140  ...     21     75      7      8     88     98     21     79   \n",
      "25246     80  ...      3     75     12      8     85     96      2     74   \n",
      "25247    190  ...     10     83     23      8     72     80      1     62   \n",
      "25248    230  ...     18     83     17      8     77     92     19     61   \n",
      "\n",
      "         UNH   EV24  \n",
      "0                    \n",
      "1                    \n",
      "2                    \n",
      "3                    \n",
      "4                    \n",
      "...      ...    ...  \n",
      "25244     15      6  \n",
      "25245      8      2  \n",
      "25246     16      4  \n",
      "25247     19      8  \n",
      "25248     17      3  \n",
      "\n",
      "[25249 rows x 41 columns]\n"
     ]
    }
   ],
   "source": [
    "data = pd.read_csv(\"DATARAW/RAWData_290.txt\", sep=\",\")\n",
    "\n",
    "data['YYYYMMDD'] = pd.to_datetime(data['YYYYMMDD'], format='%Y%m%d')\n",
    "data.rename(columns={'YYYYMMDD': 'Date'}, inplace=True)\n",
    "print(data)\n",
    "data.to_csv('DATA/WeatherData_290.txt',index=False)"
   ]
  },
  {
   "cell_type": "code",
   "execution_count": 7,
   "metadata": {},
   "outputs": [
    {
     "name": "stdout",
     "output_type": "stream",
     "text": [
      "        STN       Date  DDVEC  FHVEC     FG    FHX   FHXH    FHN   FHNH  \\\n",
      "0       391 1990-07-01                                                    \n",
      "1       391 1990-07-02                                                    \n",
      "2       391 1990-07-03                                                    \n",
      "3       391 1990-07-04    196     36     41     72     22      5      1   \n",
      "4       391 1990-07-05    226     51     57     82     14     36     22   \n",
      "...     ...        ...    ...    ...    ...    ...    ...    ...    ...   \n",
      "10818   391 2020-02-12    246     50     52     70      1     30     19   \n",
      "10819   391 2020-02-13    181     30     36     60     10     20      1   \n",
      "10820   391 2020-02-14    234     27     32     40      1     20     17   \n",
      "10821   391 2020-02-15    197     51     51     80     23     30      1   \n",
      "10822   391 2020-02-16    217     77     80    110     16     60      1   \n",
      "\n",
      "         FXX  ...   VVNH    VVX   VVXH     NG     UG     UX    UXH     UN  \\\n",
      "0             ...                                                           \n",
      "1             ...                                                           \n",
      "2             ...                                                           \n",
      "3        139  ...                                 69    100      1     45   \n",
      "4        165  ...                                 86     97     20     59   \n",
      "...      ...  ...    ...    ...    ...    ...    ...    ...    ...    ...   \n",
      "10818    150  ...                                 68     80     24     54   \n",
      "10819    120  ...                                 85     94     12     77   \n",
      "10820     80  ...                                 81     95      5     66   \n",
      "10821    160  ...                                 71     84      5     60   \n",
      "10822    250  ...                                 72     94     20     54   \n",
      "\n",
      "         UNH   EV24  \n",
      "0                    \n",
      "1                    \n",
      "2                    \n",
      "3         13         \n",
      "4         12         \n",
      "...      ...    ...  \n",
      "10818     13      7  \n",
      "10819     14      4  \n",
      "10820     15      4  \n",
      "10821     20      9  \n",
      "10822     18      4  \n",
      "\n",
      "[10823 rows x 41 columns]\n"
     ]
    }
   ],
   "source": [
    "data = pd.read_csv(\"DATARAW/RAWData_391.txt\", sep=\",\")\n",
    "\n",
    "data['YYYYMMDD'] = pd.to_datetime(data['YYYYMMDD'], format='%Y%m%d')\n",
    "data.rename(columns={'YYYYMMDD': 'Date'}, inplace=True)\n",
    "print(data)\n",
    "data.to_csv('DATA/WeatherData_391.txt',index=False)"
   ]
  }
 ],
 "metadata": {
  "kernelspec": {
   "display_name": "base",
   "language": "python",
   "name": "python3"
  },
  "language_info": {
   "codemirror_mode": {
    "name": "ipython",
    "version": 3
   },
   "file_extension": ".py",
   "mimetype": "text/x-python",
   "name": "python",
   "nbconvert_exporter": "python",
   "pygments_lexer": "ipython3",
   "version": "3.10.9"
  },
  "orig_nbformat": 4
 },
 "nbformat": 4,
 "nbformat_minor": 2
}
